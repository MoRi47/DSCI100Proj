{
 "cells": [
  {
   "cell_type": "code",
   "execution_count": null,
   "id": "74d1c3e1-a2fc-40db-b894-1d3ab2c3f998",
   "metadata": {},
   "outputs": [],
   "source": [
    "library(tidyverse)\n",
    "library(repr)\n",
    "library(tidymodels)\n",
    "library(tidyclust)\n",
    "library(GGally)\n",
    "library(infer)\n",
    "library(lubridate)"
   ]
  },
  {
   "cell_type": "markdown",
   "id": "344e5d9f-58d1-4700-bfd6-4d4276419c73",
   "metadata": {},
   "source": [
    "INTRO:\n",
    " In the last few years the increased popularity of Sandbox games like MineCraft gave researchers the chance to observe the behaviour of users in an immersive virtual environment. This projectanalyzes a set of logs gathered by a MineCraft server, which was operated by the computer science department at the University of British Columbia (UBC). The logs provide a rich set of information about users activities and properties, creating a real-world dataset to analyze the pattern of behaviour of users and predicting the outcome. The project was created based on the needs of the research group to be able to allocate the resources to users effectively, recruit them accordingly and ensure enough infrastructural requirements for high peak usage. In order to do so, this project uses statistical and machine learning methods to find useful insights in the dataset and answer the questions that they have."
   ]
  },
  {
   "cell_type": "code",
   "execution_count": null,
   "id": "145cb56e-2713-4492-91df-3338cdafbf01",
   "metadata": {},
   "outputs": [],
   "source": [
    "sessions <- read_csv(\"Data/sessions.csv\")\n",
    "sessions\n",
    "players <- read_csv(\"Data/players.csv\")\n"
   ]
  },
  {
   "cell_type": "code",
   "execution_count": null,
   "id": "d3ed1472-0d4b-47a3-bebd-19f7d06f897a",
   "metadata": {},
   "outputs": [],
   "source": [
    "#exp_vs_age_plot <- players |> ggplot(aes(x = Age)) + geom_bar()\n",
    "#exp_vs_age_plot\n",
    "\n",
    "sessions_clean <- sessions |>\n",
    "  mutate(\n",
    "    start_time = dmy_hm(start_time),\n",
    "    end_time = dmy_hm(end_time),\n",
    "    duration_minutes = as.numeric(difftime(end_time, start_time, units = \"mins\")),\n",
    "    start_hour = hour(start_time)\n",
    "  ) |>\n",
    "  select(-original_start_time, -original_end_time)\n",
    "sessions_clean"
   ]
  },
  {
   "cell_type": "code",
   "execution_count": null,
   "id": "a2840abf-3289-47c6-b1d6-8d8041b3e79f",
   "metadata": {},
   "outputs": [],
   "source": []
  },
  {
   "cell_type": "code",
   "execution_count": null,
   "id": "42b9d824-5666-4c77-ad9a-ecd9c4fa135f",
   "metadata": {},
   "outputs": [],
   "source": []
  }
 ],
 "metadata": {
  "kernelspec": {
   "display_name": "R",
   "language": "R",
   "name": "ir"
  },
  "language_info": {
   "codemirror_mode": "r",
   "file_extension": ".r",
   "mimetype": "text/x-r-source",
   "name": "R",
   "pygments_lexer": "r",
   "version": "4.3.3"
  }
 },
 "nbformat": 4,
 "nbformat_minor": 5
}
