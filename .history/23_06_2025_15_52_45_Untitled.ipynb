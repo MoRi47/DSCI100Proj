{
 "cells": [
  {
   "cell_type": "code",
   "execution_count": null,
   "id": "74d1c3e1-a2fc-40db-b894-1d3ab2c3f998",
   "metadata": {},
   "outputs": [],
   "source": [
    "library(tidyverse)\n",
    "library(repr)\n",
    "library(tidymodels)\n",
    "library(tidyclust)\n",
    "library(GGally)\n",
    "library(infer)"
   ]
  },
  {
   "cell_type": "code",
   "execution_count": null,
   "id": "145cb56e-2713-4492-91df-3338cdafbf01",
   "metadata": {},
   "outputs": [],
   "source": [
    "sessions <- read_csv(\"Data/sessions.csv\")\n",
    "sessions\n",
    "players <- read_csv(\"Data/players.csv\")\n",
    "players"
   ]
  },
  {
   "cell_type": "code",
   "execution_count": null,
   "id": "d3ed1472-0d4b-47a3-bebd-19f7d06f897a",
   "metadata": {},
   "outputs": [],
   "source": [
    "exp_vs_age_plot <- players |> ggplot(aes(x = Age)) + geom_bar()\n",
    "exp_vs_age_plot"
   ]
  },
  {
   "cell_type": "code",
   "execution_count": null,
   "id": "a2840abf-3289-47c6-b1d6-8d8041b3e79f",
   "metadata": {},
   "outputs": [],
   "source": []
  },
  {
   "cell_type": "code",
   "execution_count": null,
   "id": "42b9d824-5666-4c77-ad9a-ecd9c4fa135f",
   "metadata": {},
   "outputs": [],
   "source": []
  }
 ],
 "metadata": {
  "kernelspec": {
   "display_name": "R",
   "language": "R",
   "name": "ir"
  },
  "language_info": {
   "codemirror_mode": "r",
   "file_extension": ".r",
   "mimetype": "text/x-r-source",
   "name": "R",
   "pygments_lexer": "r",
   "version": "4.3.3"
  }
 },
 "nbformat": 4,
 "nbformat_minor": 5
}
